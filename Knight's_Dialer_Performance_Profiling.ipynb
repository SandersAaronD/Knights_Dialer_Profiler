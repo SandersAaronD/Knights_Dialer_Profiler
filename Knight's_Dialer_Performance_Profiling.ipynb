{
  "nbformat": 4,
  "nbformat_minor": 0,
  "metadata": {
    "colab": {
      "name": "Knight's Dialer Performance Profiling",
      "provenance": [],
      "include_colab_link": true
    },
    "kernelspec": {
      "name": "python3",
      "display_name": "Python 3"
    }
  },
  "cells": [
    {
      "cell_type": "markdown",
      "metadata": {
        "id": "view-in-github",
        "colab_type": "text"
      },
      "source": [
        "<a href=\"https://colab.research.google.com/github/SandersAaronD/Knights_Dialer_Profiler/blob/main/Knight's_Dialer_Performance_Profiling.ipynb\" target=\"_parent\"><img src=\"https://colab.research.google.com/assets/colab-badge.svg\" alt=\"Open In Colab\"/></a>"
      ]
    },
    {
      "cell_type": "markdown",
      "metadata": {
        "id": "RfAoboQ3iG6B"
      },
      "source": [
        "## The Knight's Dialer\n",
        "\n",
        "The Knight's Dialer is an old Google interview question. Details can be found [here.](https://alexgolec.dev/google-interview-questions-deconstructed-the-knights-dialer/)\n",
        "\n",
        "If you want to understand it read the article, this notebook is entirely for determining empirically what the runtimes of the various solutions are. I'll also profile the python @cache decorator and numpy for this problem.\n",
        "\n",
        "All of this was originally run on Colaboratory, your mileage may vary depending on how your hardware differs from theirs. You will want to set different upper bounds probably, and your cache might behave differently, and so on, and so on, and so on."
      ]
    },
    {
      "cell_type": "code",
      "metadata": {
        "id": "0b3SukjjizPK"
      },
      "source": [
        "%matplotlib inline\n",
        "import matplotlib.pyplot as plt\n",
        "import time\n",
        "import numpy as np\n",
        "\n",
        "plt.style.use('seaborn-whitegrid')"
      ],
      "execution_count": 1,
      "outputs": []
    },
    {
      "cell_type": "code",
      "metadata": {
        "id": "So_XbGnHiaDK"
      },
      "source": [
        "def profile(fn, args_lists):\n",
        "  \"\"\"Profiles input function fn for performance against several sets of arguments and returns a list of runtimes.\n",
        "  \"\"\"\n",
        "  times = []\n",
        "  for args_list in args_lists:\n",
        "    tik = time.time()\n",
        "    y = fn(*args_list)\n",
        "    tok = time.time()\n",
        "    times.append(tok-tik)\n",
        "  \n",
        "  return times"
      ],
      "execution_count": 2,
      "outputs": []
    },
    {
      "cell_type": "code",
      "metadata": {
        "id": "InoeG-kvPiok"
      },
      "source": [
        "def make_dialer_profile_graph(fn, upper_bound):\r\n",
        "  '''Specific to the knight's dialer, runs the function for all values up to the upper_bound and graphs it.\r\n",
        "  '''\r\n",
        "  num_hops = list(range(1, upper_bound))\r\n",
        "  starting_positions = [1 for _ in range(1, upper_bound)]\r\n",
        "  args_lists = zip(starting_positions, num_hops)\r\n",
        "  times = profile(fn, args_lists)\r\n",
        "  plt.plot(num_hops, times, 'o', color='black')"
      ],
      "execution_count": 3,
      "outputs": []
    },
    {
      "cell_type": "code",
      "metadata": {
        "id": "HADEafWMk9-4"
      },
      "source": [
        "# Necessary for other knight's dialer functions to run.\n",
        "NEIGHBORS_MAP = {\n",
        "    1: (6, 8),\n",
        "    2: (7, 9),\n",
        "    3: (4, 8),\n",
        "    4: (3, 9, 0),\n",
        "    5: tuple(),  # 5 has no neighbors\n",
        "    6: (1, 7, 0),\n",
        "    7: (2, 6),\n",
        "    8: (1, 3),\n",
        "    9: (2, 4),\n",
        "    0: (4, 6),\n",
        "}\n",
        "def neighbors(position):\n",
        "    return NEIGHBORS_MAP[position]"
      ],
      "execution_count": 4,
      "outputs": []
    },
    {
      "cell_type": "code",
      "metadata": {
        "id": "qrsGNuRtlFFZ"
      },
      "source": [
        "# Naive solution, brute force, basically.\n",
        "def yield_sequences(starting_position, num_hops, sequence=None):\n",
        "    if sequence is None:\n",
        "        sequence = [starting_position]\n",
        "    \n",
        "    if num_hops == 0:\n",
        "        yield sequence\n",
        "        return\n",
        "\n",
        "    for neighbor in neighbors(starting_position):\n",
        "        yield from yield_sequences(\n",
        "            neighbor, num_hops - 1, sequence + [neighbor])\n",
        "\n",
        "def count_sequences(starting_position, num_hops):\n",
        "    num_sequences = 0\n",
        "    for sequence in yield_sequences(starting_position, num_hops):\n",
        "        num_sequences += 1\n",
        "    return num_sequences"
      ],
      "execution_count": 5,
      "outputs": []
    },
    {
      "cell_type": "code",
      "metadata": {
        "id": "unC4mF6tn4OQ",
        "colab": {
          "base_uri": "https://localhost:8080/",
          "height": 262
        },
        "outputId": "79f86f48-0187-4e8e-95fe-7bca8c67d2da"
      },
      "source": [
        "# Choosing an upper bound higher than 16 for this function took an annoyingly long time to run.\n",
        "make_dialer_profile_graph(count_sequences, 16)"
      ],
      "execution_count": 6,
      "outputs": [
        {
          "output_type": "display_data",
          "data": {
            "image/png": "[encoded data removed]",
            "text/plain": [
              "<Figure size 432x288 with 1 Axes>"
            ]
          },
          "metadata": {
            "tags": [],
            "needs_background": "light"
          }
        }
      ]
    },
    {
      "cell_type": "markdown",
      "metadata": {
        "id": "ue0JqtQHzB5c"
      },
      "source": [
        "Does anyone dispute that this is exponential? No? Okay, good."
      ]
    },
    {
      "cell_type": "code",
      "metadata": {
        "id": "3VnS-cBZtUqK"
      },
      "source": [
        "# Basically the same thing, but with recursion, and we don't store the sequences, only count them.\n",
        "def count_sequences_naive_recursion(start_position, num_hops):                  \n",
        "    if num_hops == 0:                                           \n",
        "        return 1                                                \n",
        "                                                                \n",
        "    num_sequences = 0                                           \n",
        "    for position in neighbors(start_position):                  \n",
        "        num_sequences += count_sequences(position, num_hops - 1)\n",
        "    return num_sequences   "
      ],
      "execution_count": 7,
      "outputs": []
    },
    {
      "cell_type": "code",
      "metadata": {
        "colab": {
          "base_uri": "https://localhost:8080/",
          "height": 262
        },
        "id": "CwoeTRPUtjBJ",
        "outputId": "31e61331-d27d-48da-bd9f-19b1b58bbee8"
      },
      "source": [
        "make_dialer_profile_graph(count_sequences_naive_recursion, 16)"
      ],
      "execution_count": 8,
      "outputs": [
        {
          "output_type": "display_data",
          "data": {
            "image/png": "[encoded data removed]",
            "text/plain": [
              "<Figure size 432x288 with 1 Axes>"
            ]
          },
          "metadata": {
            "tags": [],
            "needs_background": "light"
          }
        }
      ]
    },
    {
      "cell_type": "markdown",
      "metadata": {
        "id": "um0jtMJwzJKp"
      },
      "source": [
        "Still exponential."
      ]
    },
    {
      "cell_type": "code",
      "metadata": {
        "id": "mgBCVHbwocUf"
      },
      "source": [
        "def count_sequences_with_memo(start_position, num_hops):\n",
        "    cache = {}\n",
        "\n",
        "    def helper(position, num_hops):\n",
        "        if (position, num_hops) in cache:\n",
        "            return cache[ (position, num_hops) ]\n",
        "\n",
        "        if num_hops == 0:\n",
        "            return 1\n",
        "\n",
        "        else:\n",
        "            num_sequences = 0\n",
        "            for neighbor in neighbors(position):\n",
        "                num_sequences += helper(neighbor, num_hops - 1)\n",
        "            cache[ (position, num_hops) ] = num_sequences\n",
        "            return num_sequences\n",
        "\n",
        "    res = helper(start_position, num_hops)\n",
        "    return res"
      ],
      "execution_count": 9,
      "outputs": []
    },
    {
      "cell_type": "code",
      "metadata": {
        "colab": {
          "base_uri": "https://localhost:8080/",
          "height": 262
        },
        "id": "bBr63KJqpmrb",
        "outputId": "4fa4c5b3-73f7-4511-ed70-144b85abc289"
      },
      "source": [
        "# 1024 throws recursion depth error so we're doing 512.\n",
        "make_dialer_profile_graph(count_sequences_with_memo, 512)"
      ],
      "execution_count": 10,
      "outputs": [
        {
          "output_type": "display_data",
          "data": {
            "image/png": "[encoded data removed]",
            "text/plain": [
              "<Figure size 432x288 with 1 Axes>"
            ]
          },
          "metadata": {
            "tags": [],
            "needs_background": "light"
          }
        }
      ]
    },
    {
      "cell_type": "markdown",
      "metadata": {
        "id": "5Sl1kC5hzOrU"
      },
      "source": [
        "Nice and flat, O(n) for sure. Now that we're running a lot of values we start to see how 'messy' execution really is; it's flat in aggregate, in general, but individual runtimes for individual function calls are 'noisy'. Still, obviously O(n)."
      ]
    },
    {
      "cell_type": "code",
      "metadata": {
        "id": "LWH7sfZdp1Ec"
      },
      "source": [
        "def count_sequences_dynamic_programming(start_position, num_hops):                \n",
        "    prior_case = [1] * 10                                     \n",
        "    current_case = [0] * 10                                   \n",
        "    current_num_hops = 1                                      \n",
        "                                                              \n",
        "    while current_num_hops <= num_hops:                       \n",
        "        current_case = [0] * 10                               \n",
        "        current_num_hops += 1                                 \n",
        "                                                              \n",
        "        for position in range(0, 10):                         \n",
        "            for neighbor in neighbors(position):              \n",
        "                current_case[position] += prior_case[neighbor]\n",
        "        prior_case = current_case                             \n",
        "                                                              \n",
        "    return current_case[start_position]   "
      ],
      "execution_count": 11,
      "outputs": []
    },
    {
      "cell_type": "code",
      "metadata": {
        "colab": {
          "base_uri": "https://localhost:8080/",
          "height": 262
        },
        "id": "Z3D0-7t0p3w5",
        "outputId": "9eb62b85-c978-4981-e7ae-1c52c56c47d0"
      },
      "source": [
        "make_dialer_profile_graph(count_sequences_dynamic_programming, 512)"
      ],
      "execution_count": 12,
      "outputs": [
        {
          "output_type": "display_data",
          "data": {
            "image/png": "[encoded data removed]",
            "text/plain": [
              "<Figure size 432x288 with 1 Axes>"
            ]
          },
          "metadata": {
            "tags": [],
            "needs_background": "light"
          }
        }
      ]
    },
    {
      "cell_type": "markdown",
      "metadata": {
        "id": "BjzPK5sK5gHT"
      },
      "source": [
        "Still flat. Not obviously much faster than recursion with memoization, but \r\n",
        "asymptotically the memory use would matter a lot. Also much 'tighter', make me think the cache resize is where we got the 'noise' in the memoization runtime graph. Allocating more memory is inherently less predictable in runtime than doing a calculation. This is O(1) space complexity, and has no such memory issues."
      ]
    },
    {
      "cell_type": "code",
      "metadata": {
        "id": "yzPgxteqqLfo"
      },
      "source": [
        "# In the original post this is called 'neighbors_map' even though it is referred to in the later code as 'neighbors_matrix'.\n",
        "# This causes an unassigned value error. This is why we can't have nice things.\n",
        "NEIGHBORS_MATRIX = {\n",
        "  0: (0, 0, 0, 0, 1, 0, 1, 0, 0, 0),\n",
        "  1: (0, 0, 0, 0, 0, 0, 1, 0, 1, 0),\n",
        "  2: (0, 0, 0, 0, 0, 0, 0, 1, 0, 1),\n",
        "  3: (0, 0, 0, 1, 0, 0, 0, 0, 1, 0),\n",
        "  4: (1, 0, 0, 1, 0, 0, 0, 0, 0, 1),\n",
        "  5: (0, 0, 0, 0, 0, 0, 0, 0, 0, 0),\n",
        "  6: (1, 1, 0, 0, 0, 0, 0, 1, 0, 0),\n",
        "  7: (0, 0, 1, 0, 0, 0, 1, 0, 0, 0),\n",
        "  8: (0, 1, 0, 1, 0, 0, 0, 0, 0 ,0),\n",
        "  9: (0, 0, 1, 0, 1, 0, 0, 0, 0, 0),\n",
        "}"
      ],
      "execution_count": 13,
      "outputs": []
    },
    {
      "cell_type": "code",
      "metadata": {
        "id": "9KbIceaSqXEH"
      },
      "source": [
        "def matrix_multiply(A, B):\n",
        "    A_rows, A_cols = len(A), len(A[0])\n",
        "    B_rows, B_cols = len(B), len(B[0])\n",
        "    result = list(map(lambda i: [0] * B_cols, range(A_rows)))\n",
        "\n",
        "    for row in range(A_rows):\n",
        "        for col in range(B_cols):\n",
        "            for i in range(B_rows):\n",
        "                result[row][col] += A[row][i] * B[i][col]\n",
        "\n",
        "    return result\n",
        "\n",
        "def count_sequences_with_matrices(start_position, num_hops):\n",
        "    # Start off with a 10x10 identity matrix\n",
        "    accum = [[1 if i == j else 0 for i in range(10)] for j in range(10)]\n",
        "\n",
        "    # bin(num_hops) starts with \"0b\", slice it off with [2:]\n",
        "    for bit_num, bit in enumerate(reversed(bin(num_hops)[2:])):\n",
        "        if bit_num == 0:\n",
        "            import copy\n",
        "            power_of_2 = copy.deepcopy(NEIGHBORS_MATRIX)\n",
        "        else:\n",
        "            power_of_2 = matrix_multiply(power_of_2, power_of_2)\n",
        "\n",
        "        if bit == '1':\n",
        "            accum = matrix_multiply(accum, power_of_2)\n",
        "\n",
        "    return matrix_multiply(accum, [[1]]*10)[start_position][0]"
      ],
      "execution_count": 14,
      "outputs": []
    },
    {
      "cell_type": "code",
      "metadata": {
        "colab": {
          "base_uri": "https://localhost:8080/",
          "height": 262
        },
        "id": "wGSA-hIfqavL",
        "outputId": "575289d4-690e-4d0e-dd26-d58aa3d7245c"
      },
      "source": [
        "make_dialer_profile_graph(count_sequences_with_matrices, 512)"
      ],
      "execution_count": 15,
      "outputs": [
        {
          "output_type": "display_data",
          "data": {
            "image/png": "[encoded data removed]",
            "text/plain": [
              "<Figure size 432x288 with 1 Axes>"
            ]
          },
          "metadata": {
            "tags": [],
            "needs_background": "light"
          }
        }
      ]
    },
    {
      "cell_type": "markdown",
      "metadata": {
        "id": "fo7brOfC6Udo"
      },
      "source": [
        "This is an interesting graph.\n",
        "\n",
        "Our first real surprise: For the values tested, this is actually slower than either the memoized or dynamic programming solution.\n",
        "\n",
        "The argument for this algorithm being O(log n) seems pretty sound, but big-O is asymptotic performance. For these (relatively low) values, the overhead on handling matrices (in pure python, no less) is higher than the difference between O(log n) and O(n).\n",
        "\n",
        "To eyeball the graph, there are a few interesting things. First, the spread is a lot more dramatic than the previous one: this, again, appears noisy. But it doesn't actually appear to be all random noise: it has a period. What kind of period? If I had to hazard a guess, that big drop in the middle is where we hit 256 ... ie, a power of two, requiring fewer intermediate matrix multiplications.\n",
        "\n",
        "Within the periods there appear to be periods, so probably there is a period for each power of two. This again makes sense: if we are below 3^32 but approaching 2^16, the runtime will drop when we hit 2^16. At 2^16 - 1, we are performing a matrix multiplication for each power of two up to 15, and at 2^16 we are only performing one for that range.\n",
        "\n",
        "And so on for each power of two. The 'worst' runtime relative to input in a range will always be the one with the most one bits in its binary representation, and a power of two minus one is mostly ones bits."
      ]
    },
    {
      "cell_type": "markdown",
      "metadata": {
        "id": "w7nvgtuiIR3W"
      },
      "source": [
        "# Verifying Asymptotic Performance Without Making a Graph\r\n",
        "\r\n",
        "To verify that this is in fact asymptotically faster, rather than running all values up to a specified one (which is what the make_knight_dialer_graph function does) we can simply run the function for a large value several times. We can assume that noise will cancel out over multiple runs, and believing the analysis sound we will expect the O(log n) solution to outperform the O(n) one."
      ]
    },
    {
      "cell_type": "code",
      "metadata": {
        "colab": {
          "base_uri": "https://localhost:8080/"
        },
        "id": "lSJ78hexIQBQ",
        "outputId": "8bfdf7d4-8b32-44c5-81d3-cc9621bc70ef"
      },
      "source": [
        "num_hops = [65535 for _ in range(1, 32)]\r\n",
        "starting_positions = [1 for _ in range(1, 32)]\r\n",
        "args_lists = list(zip(starting_positions, num_hops)) # A fun exercise: Why does this have to be a list instead of a zip?\r\n",
        "\r\n",
        "times_for_matrices = profile(count_sequences_with_matrices, args_lists)\r\n",
        "\r\n",
        "print(\"Runtime for the matrix solution:\")\r\n",
        "print(sum(times_for_matrices))\r\n",
        "\r\n",
        "times_for_dp = profile(count_sequences_dynamic_programming, args_lists)\r\n",
        "\r\n",
        "print(\"Runtime for the dp solution:\")\r\n",
        "print(sum(times_for_dp))"
      ],
      "execution_count": 16,
      "outputs": [
        {
          "output_type": "stream",
          "text": [
            "Runtime for the matrix solution:\n",
            "25.546484231948853\n",
            "Runtime for the dp solution:\n",
            "61.77008271217346\n"
          ],
          "name": "stdout"
        }
      ]
    },
    {
      "cell_type": "markdown",
      "metadata": {
        "id": "AT1MAfUeRPYy"
      },
      "source": [
        "Since those are full seconds, the O(n) solution chugged along for something of an eon of extra time in computer time and we can declare the O(log n) solution the winner.\r\n",
        "\r\n",
        "While writing and debugging this I noticed something else. See if you can spot it:"
      ]
    },
    {
      "cell_type": "code",
      "metadata": {
        "colab": {
          "base_uri": "https://localhost:8080/"
        },
        "id": "K1OF960sR9Yk",
        "outputId": "8e8be5a9-1f90-44a8-972c-628a43303b27"
      },
      "source": [
        "print(count_sequences(1, 8))\r\n",
        "print(count_sequences_naive_recursion(1, 8))\r\n",
        "print(count_sequences_with_memo(1, 8))\r\n",
        "print(count_sequences_dynamic_programming(1, 8))\r\n",
        "print(count_sequences_with_matrices(1, 8))"
      ],
      "execution_count": 17,
      "outputs": [
        {
          "output_type": "stream",
          "text": [
            "712\n",
            "712\n",
            "712\n",
            "712\n",
            "613\n"
          ],
          "name": "stdout"
        }
      ]
    },
    {
      "cell_type": "markdown",
      "metadata": {
        "id": "X787UsSGTkZg"
      },
      "source": [
        "One of these things just isn't the same. Could the problem be our matrix multiply?"
      ]
    },
    {
      "cell_type": "code",
      "metadata": {
        "colab": {
          "base_uri": "https://localhost:8080/"
        },
        "id": "hWvfbtPpViSV",
        "outputId": "a7b1c6f0-74e9-4f2c-e08b-1f897dade91d"
      },
      "source": [
        "import numpy as np\r\n",
        "\r\n",
        "A = [[8, 6, 7],\r\n",
        "    [5, 3, 0],\r\n",
        "    [9, 9, 9]]\r\n",
        "\r\n",
        "B = [[3, 1, 4],\r\n",
        "    [1, 5, 9],\r\n",
        "    [2, 6, 5]]\r\n",
        "\r\n",
        "print(np.matrix(A) @ np.matrix(B))\r\n",
        "\r\n",
        "print(matrix_multiply(A, B))"
      ],
      "execution_count": 18,
      "outputs": [
        {
          "output_type": "stream",
          "text": [
            "[[ 44  80 121]\n",
            " [ 18  20  47]\n",
            " [ 54 108 162]]\n",
            "[[44, 80, 121], [18, 20, 47], [54, 108, 162]]\n"
          ],
          "name": "stdout"
        }
      ]
    },
    {
      "cell_type": "markdown",
      "metadata": {
        "id": "dOlCMe2cXDg5"
      },
      "source": [
        "Either Numpy is wrong or this matrix multiply is good, at least outside of weird edge cases. (Numpy is a surprise tool that will help us later.)\r\n",
        "\r\n",
        "Is the NEIGHBORS_MATRIX correct? I confess that I cannot easily read off its correctness or incorrectness, and it will be easier to write a script that outputs which keys allow you to reach which other keys and then compare that against my phone keypad."
      ]
    },
    {
      "cell_type": "code",
      "metadata": {
        "colab": {
          "base_uri": "https://localhost:8080/"
        },
        "id": "AjR2X-F9Y3wC",
        "outputId": "e2f3f0e4-b253-41e7-a9c0-d1f0b32af6b4"
      },
      "source": [
        "for origin in NEIGHBORS_MATRIX.keys():\r\n",
        "  for destination, reachable in enumerate(NEIGHBORS_MATRIX[origin]):\r\n",
        "    if reachable:\r\n",
        "      print((origin, destination))"
      ],
      "execution_count": 19,
      "outputs": [
        {
          "output_type": "stream",
          "text": [
            "(0, 4)\n",
            "(0, 6)\n",
            "(1, 6)\n",
            "(1, 8)\n",
            "(2, 7)\n",
            "(2, 9)\n",
            "(3, 3)\n",
            "(3, 8)\n",
            "(4, 0)\n",
            "(4, 3)\n",
            "(4, 9)\n",
            "(6, 0)\n",
            "(6, 1)\n",
            "(6, 7)\n",
            "(7, 2)\n",
            "(7, 6)\n",
            "(8, 1)\n",
            "(8, 3)\n",
            "(9, 2)\n",
            "(9, 4)\n"
          ],
          "name": "stdout"
        }
      ]
    },
    {
      "cell_type": "markdown",
      "metadata": {
        "id": "BscDeBeRZvaq"
      },
      "source": [
        "(3, 3) is our mistake. It should be (3, 4)."
      ]
    },
    {
      "cell_type": "code",
      "metadata": {
        "colab": {
          "base_uri": "https://localhost:8080/"
        },
        "id": "fRENREFLZtOp",
        "outputId": "34e87c75-a4e8-4563-afbb-a67b15e528c8"
      },
      "source": [
        "NEIGHBORS_MATRIX = {\r\n",
        "  0: (0, 0, 0, 0, 1, 0, 1, 0, 0, 0),\r\n",
        "  1: (0, 0, 0, 0, 0, 0, 1, 0, 1, 0),\r\n",
        "  2: (0, 0, 0, 0, 0, 0, 0, 1, 0, 1),\r\n",
        "  3: (0, 0, 0, 0, 1, 0, 0, 0, 1, 0),\r\n",
        "  4: (1, 0, 0, 1, 0, 0, 0, 0, 0, 1),\r\n",
        "  5: (0, 0, 0, 0, 0, 0, 0, 0, 0, 0),\r\n",
        "  6: (1, 1, 0, 0, 0, 0, 0, 1, 0, 0),\r\n",
        "  7: (0, 0, 1, 0, 0, 0, 1, 0, 0, 0),\r\n",
        "  8: (0, 1, 0, 1, 0, 0, 0, 0, 0 ,0),\r\n",
        "  9: (0, 0, 1, 0, 1, 0, 0, 0, 0, 0),\r\n",
        "}\r\n",
        "\r\n",
        "print(count_sequences_with_matrices(1, 8))"
      ],
      "execution_count": 20,
      "outputs": [
        {
          "output_type": "stream",
          "text": [
            "712\n"
          ],
          "name": "stdout"
        }
      ]
    },
    {
      "cell_type": "markdown",
      "metadata": {
        "id": "ha4Y6pj_vE-0"
      },
      "source": [
        "Much better. It's possible that this glitch was causing more zero values and therefore a faster runtime, and gave this implementation an advantage, so we'll need to run our race again."
      ]
    },
    {
      "cell_type": "code",
      "metadata": {
        "colab": {
          "base_uri": "https://localhost:8080/"
        },
        "id": "5sNng9SmaOY_",
        "outputId": "655999ef-05b3-4dcd-821e-c4fcf834221a"
      },
      "source": [
        "num_hops = [65535 for _ in range(1, 32)]\r\n",
        "starting_positions = [1 for _ in range(1, 32)]\r\n",
        "args_lists = list(zip(starting_positions, num_hops))\r\n",
        "\r\n",
        "times_for_matrices = profile(count_sequences_with_matrices, args_lists)\r\n",
        "\r\n",
        "print(\"Runtime for the matrix solution:\")\r\n",
        "print(sum(times_for_matrices))\r\n",
        "\r\n",
        "times_for_dp = profile(count_sequences_dynamic_programming, args_lists)\r\n",
        "\r\n",
        "print(\"Runtime for the dp solution:\")\r\n",
        "print(sum(times_for_dp))"
      ],
      "execution_count": 21,
      "outputs": [
        {
          "output_type": "stream",
          "text": [
            "Runtime for the matrix solution:\n",
            "5.677034616470337\n",
            "Runtime for the dp solution:\n",
            "61.94935727119446\n"
          ],
          "name": "stdout"
        }
      ]
    },
    {
      "cell_type": "markdown",
      "metadata": {
        "id": "5NMrS3fW0L-4"
      },
      "source": [
        "Not at all! It turns out it's much faster with the error gone. Why? I would assume the (3, 3) value was causing the value in (3, 3) to grow significantly faster than it would otherwise, which in turn caused the arithmetic to need larger numbers, consuming more resources.\r\n",
        "\r\n",
        "Now let's try to compare the python @cache decorator with hand-implemented caching, and numpy with our handrolled matrix multiply."
      ]
    },
    {
      "cell_type": "code",
      "metadata": {
        "id": "4xVfFUHhz7Uj"
      },
      "source": [
        "import functools\r\n",
        "\r\n",
        "@functools.lru_cache()\r\n",
        "def count_sequences_with_imported_cache(position, num_hops):\r\n",
        "    if num_hops == 0:\r\n",
        "        return 1\r\n",
        "    else:\r\n",
        "        num_sequences = 0\r\n",
        "        for neighbor in neighbors(position):\r\n",
        "            num_sequences += count_sequences_with_imported_cache(neighbor, num_hops - 1)\r\n",
        "        return num_sequences\r\n",
        "    return res"
      ],
      "execution_count": 22,
      "outputs": []
    },
    {
      "cell_type": "code",
      "metadata": {
        "colab": {
          "base_uri": "https://localhost:8080/",
          "height": 273
        },
        "id": "QyHztQ-u4S-p",
        "outputId": "d869fbd0-e207-4443-e211-0faedefd5086"
      },
      "source": [
        "make_dialer_profile_graph(count_sequences_with_imported_cache, 512)"
      ],
      "execution_count": 23,
      "outputs": [
        {
          "output_type": "display_data",
          "data": {
            "image/png": "[encoded data removed]",
            "text/plain": [
              "<Figure size 432x288 with 1 Axes>"
            ]
          },
          "metadata": {
            "tags": [],
            "needs_background": "light"
          }
        }
      ]
    },
    {
      "cell_type": "markdown",
      "metadata": {
        "id": "SStDN87X_JBi"
      },
      "source": [
        "The imported cache is at least three orders of magnitude faster than using a python dictionary was. Why? Because some of the underlying implementation is in C.\r\n",
        "\r\n",
        "I don't think I will be implementing caching by hand very much any more."
      ]
    },
    {
      "cell_type": "code",
      "metadata": {
        "id": "2FMRtq-h0uft"
      },
      "source": [
        "NEIGHBORS_MATRIX_NP = np.matrix([x for x in NEIGHBORS_MATRIX.values()])\r\n",
        "\r\n",
        "def count_sequences_with_np_matrices(start_position, num_hops):\r\n",
        "    # Apologies for the code golf.\r\n",
        "    return np.sum(np.linalg.matrix_power(NEIGHBORS_MATRIX_NP, num_hops)[start_position])"
      ],
      "execution_count": 24,
      "outputs": []
    },
    {
      "cell_type": "code",
      "metadata": {
        "colab": {
          "base_uri": "https://localhost:8080/",
          "height": 262
        },
        "id": "2MRoYC5HBF2I",
        "outputId": "d9c2376c-4034-40eb-eb90-6af7ee831800"
      },
      "source": [
        "make_dialer_profile_graph(count_sequences_with_np_matrices, 512)"
      ],
      "execution_count": 25,
      "outputs": [
        {
          "output_type": "display_data",
          "data": {
            "image/png": "[encoded data removed]",
            "text/plain": [
              "<Figure size 432x288 with 1 Axes>"
            ]
          },
          "metadata": {
            "tags": [],
            "needs_background": "light"
          }
        }
      ]
    },
    {
      "cell_type": "markdown",
      "metadata": {
        "id": "jnSBSAqrBQvf"
      },
      "source": [
        "Same story: Much faster, and it's because the underlying implementation is at least partially in C. It was also a lot easier to write, I imagine."
      ]
    }
  ]
}